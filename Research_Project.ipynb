{
 "cells": [
  {
   "cell_type": "markdown",
   "id": "817b8226-55ac-4527-ab61-e56e5bc328a2",
   "metadata": {},
   "source": [
    "## The Student Asked, AI Answered: Rethinking Academic Guidance"
   ]
  },
  {
   "cell_type": "markdown",
   "id": "d63a7a4c-7515-4dc2-b089-8f7441711c63",
   "metadata": {},
   "source": [
    "### Introduction\n",
    "\n",
    "According to the Pew Research Center, nearly 15% of all Americans are first-generation college students, and about 56% of current undergraduates identify as first-gen—meaning they are the first in their families to attend college. This status often comes with unique challenges. First-gen students tend to face greater academic and financial hurdles and frequently lack the familial or social networks that can help them navigate the college experience. I know this firsthand, as I am both a first-generation American and a first-generation college student. Undergrad is already a confusing and overwhelming time for many students, but these added layers make the experience even more difficult for those that are overall first gen students. Many students overall actually struggle with academic advising--often feeling discouraged and left with generic or counterproductive advice. Through this communicative context, student vs academic advisor, we will examine the role LLMs might play within it. What is the place and potential of AI in guiding students through academic decisions and helping them achieve academic success? What are its implications in being able to assist more marginalized populations such as first gen students?"
   ]
  },
  {
   "cell_type": "markdown",
   "id": "09c581f6-6a59-4298-9aa0-123735db8316",
   "metadata": {},
   "source": [
    "### Literature Review\n",
    "\n",
    "Only 57% of rising graduates feel they have actually received sufficient knowledge from the advising process on the classes they needed in order to graduate (Flaherty 2023). First generational students feel discouraged to get assistance from academic advising as they tend to feel higher levels of empathy for their advisor's workload, experience microagressions due to their background and just general difficulty navigating the advising process in the first place (Matthew, Ford & Kepple 2022). \n",
    "\n",
    "Having a high quality and helpful advising service is very important as having a close relationship with your advisor--one where you have greater access to them, has very impactful effects on the advisees/studentes beacuse it improves their wellbeing and is correlated with greater academic success. This is related to a concept called Mattering Theory, where students will succeed if they at least know they have one person (or more) cares about them. A study done on students in the UAE shows that advisors can aid significantly, as many reported that the personalized attention allowed advisors to understand the goals and issues of the student which furthered them into academic success (Gudep 2007). And for rather more vulnerable populations such as first generational students, who often face a difficult transition into higher education without the benefit of prior family experience, this kind of support can be especially critical. For them , advisors can serve as essential guides, helping to ease feelings of isolation and uncertainty during this pivotal time (McConnell & Peggy, 2000)\n",
    "\n",
    "However, as previously alluded to, this is often not the case. Academic advising is underinvested into, and not given much thought in order to stabilize its reach and duties to reach more students in as much of an impactful and meaningful way (Lowe & Toney, 2000, Young-Jones et. al. 2011). A study done by the American College Testing program and NACADA from 2004, showed that few instutions actively push advising to students and when it does seem like they interact, advisors are underequipped with real training on policies and ineffective communnication/advising styles (Lotkowski 2004, Chan et. al., 2019), they are still able to have ahold of a vast amount of resources and tools but because its significance is still often overlooked and its reach is not that standardized across all education, we instead get the negative effects highlighted above. (Hilliger et al., 2020).\n",
    "\n",
    "When academic advising is consistently done with care and good quality, we see overall benefits such as greater academic success and better retention rates (Patton et. al, 2006).  In a study done on university teacher preparation programs across 30 different states where it is mandated that students are given academic advising, they found that there was a significant relationship between student satisfaction and the frequency of advisor calls across all groups of students, further reinforcing that students are happier when they are able to meet with an advisor more regularly (Lowe & Toney 2000).\n",
    "\n",
    "There is a growing body of literature that explores the integration of artificial intelligence into academic advising. Artificial intelligence and Chatbots are being used in the academic advising process to help automate and thus quicken more of the tedious tasks many advisors face. In a meta analysis, (Thottoli et. al., 2023) compiled literature that passed word inclusion criteria in order to examine how chatbots were being imposed in academia over time. Some uses included course recommendations, counseling, major selection, etc. A select few students have voiced out how Stellic---an AI that uses \"predictive institutional planning\", described how it based on their coursework and goals, they have been able to plan out their course progression well into the next year all without needing to go through the hassle of an academic advisor (Stellic (n.d.)). This form of artificial intelligence is actually being implemented at various schools such as Carnegie Mellon University, Duke University, Colorado College, etc. While there hasn't been as many stories AI fails in academic planning, a challenge to using it is the lack of emotional aspect of that an advisor would have. Without the ability to form genuine and more humane-like connections, AI tools fall short in being able to connect with advisees and understand truly what is best for them enough to guide them to true success (Thottoli et. al., 2023)"
   ]
  },
  {
   "cell_type": "markdown",
   "id": "5352c6ff-16a7-4507-b48c-03467876ca2d",
   "metadata": {},
   "source": [
    "### An Experiment with ChatGPT\n",
    "\n",
    "To understand the extent in which AI could actually be useful and beneficial in the context of student and academic advisor, I simulated situations that have and could occur to many students in ChatGPT. I played the role of student, specifically a first gen student who attends the University of Pennsylvania, as this approach allowed me to assess not only the accuracy of the information provided, but also the emotional support, understanding, and overall helpfulness of the AI in navigating difficult academic and personal situations that comes with attending college. \n",
    "\n",
    "**Here is the overall prompt I decided to use:**\n",
    "\n",
    "You are a virtual academic advisor designed to support first-generation college students. Your goal is to help students make informed and confident decisions about their academic, personal, or professional lives. Your tone should be warm, encouraging, and clear. You are speaking to a student who may be navigating college without much outside support. You should try to find out helpful information such as what year they are or what they are interested in pursuing, etc to understand their problem fully. Validate their experiences, avoid jargon, and be as helpful as possible. Make sure to respond with care and reassurance, while still helping them take steps forward. Ask questions to try to understand the student as they detail you the issues or questions they have and offer detailed and thoughtful advice based on the situation. Do not make assumptions about what the student should want — ask clarifying questions when appropriate. Your goal is to model the best version of an AI that really supports first-gen students like a human would.\n",
    "\n",
    "**Situations included:**\n",
    "\n",
    "1. Incoming Freshman Needing Advice on Scheduling and Choosing Classes for their first semester\n",
    "2. A Sophomore who needs help deciding what to declare as a major by the end of the year\n",
    "3. A student experiencing imposter syndrome\n",
    "4. Upcoming Senior meeting advisor in order to determine if they are on track to graduate"
   ]
  },
  {
   "cell_type": "markdown",
   "id": "3e1f5032-ba85-45fe-ad3f-c31dc44bad78",
   "metadata": {},
   "source": [
    "**Scenario Reflections** \n",
    "\n",
    "For the first scenario, I feel that it does a good job asking questions about how I'm feeling/concerns throughout every step, but I feel like it didn't flow that naturally like a regular conversation, as it would drop a ton of information and then ask the questions about how I was feeling. I feel like it didn't have that good of a balance and was incredibly too wordy in order to have that natural of a conversation with a mix of \"how are you doing?\". There are also things I feel I had to continue to be proactive about and initiate such as asking about gen ed requirements. Perhaps I guess I didn't really incorporate that into the prompt, I do feel that if I had it would've done a better job in this regard, but not the best possible ability as Chat does not itself has access to things my actual advisor would. \n",
    "\n",
    "For scenario 2, it asks so many questions and pivots to the next thing it wants to tell me, which is fine but it kinda makes it harder on the user to answer everything all at once making it unnatural. This journey actually reflects a journey that was very similar to mine when I was a sophomore, and I think it does an even better job of asking good questions and providing actual good recommendations that actually did bring me to the point I am at now. The process and recommendations here were way more clean and effective than what I had received when I was in this position, probably other students as many advisors are trained if at all in one area. Had I specified for the LLM that I WAS considering exploring the CIS class for engineering students it would have gathered that information for me rather an advisor whose expertise is most likely in just the College for me. Other things I actually enjoyed included the graphics showing me the pros and cons of the potential routes I could go down. It even mentioned classes I never considered taking or knew about like the data science class for behavioral science, that's definitely a class I would have taken if I knew about before. I did have a concern with the LLM saying \"This is probably the best first course for someone like you\"; I don't know but \"someone like you\" rubbed me the wrong way for some reason. But overall the LLM does significantly more than an advisor would, heck even more than the student would have to, because looking into and comparing those majors is typically an independent task for the student. It was also lovely that it still did leave me with a plan as well to speak to the advisors of the programs I was considering.\n",
    "\n",
    "For Scenario 3, I think out of all the scenarios is the best on offering the important warm, encouraging, and understanding aspect that is needed in order to have a meaningful interaction with an advisee. It reassures the student in that they are not alone and gives help advice in that it reminds the student that there are probably many other students who are in the same position but I just don't know because they're hiding it well, which is something I really needed to hear at one point and I feel like many other people needed to hear as well when they felt the same. It even does a good job at reassuring me when I express concerns about needing tutoring or not knowing what to ask in office hours. And not only does it console and reassure the student but it also leaves them with a plan and offers further help in being able to reach out to the professors and TAs, and providing a resource such as the Weingarten center. \n",
    "\n",
    "An overall limitation of ChatGPT in being able to be the best advisor was its lack of access to insitution specific tools such as Path at Penn. For scenario 4 it tries its best to guide me through a degree audit, without that resource and it directs me to that resource after its attempt. It was right in predicting that I was on track for graduation and when provided the url to the major requirements it does a good job auditing itself and reporting to me how far I am in completing the major, however this takes a complete turn with when I provide it the url for the minor requirement, it just doesn't parse through the site as good as it did for the major requirements for some reason, like none of the minor electives it said were fulfilling actually count for it, they're not anywhere to be found on that page either, so I don't know why it made this mistake when it didn't make it for the first one. Maybe it's the formats of the pages, as they are in different formats. Despite this, if it had the ability to access the information from Path@Penn like how academic advisor AIs actually implemented at other institutions are able to do with their school's tools. "
   ]
  },
  {
   "cell_type": "markdown",
   "id": "67b0f57e-0737-41ca-906e-7526e3c37979",
   "metadata": {},
   "source": [
    "### Conclusion \n",
    "\n"
   ]
  },
  {
   "cell_type": "markdown",
   "id": "2eb85eb3-30ae-4e13-a081-2ef3f5df612a",
   "metadata": {},
   "source": [
    "In general ChatGPT was actually able to do so much. It had empathetic approaches, encouraging approach, informative approach and overall incredibly helpful. I passed it a bunch of situations similar to situations I have faced as a student especially and had a hard time navigating myself as I had negative 5 clue about where to get help to guide me, in order to assess its accuracy and effectiveness when it comes to advice in comparison to what I had and potentially others. I found that it does what it needs to do and more, often ligtening the burden of the work the student would need to do independently as well. That limitation though of the lack of access ChatGPT had to specific school institutions such as Path@Penn was did make it difficult for it to be more personalized and completely understand what a student at Penn will need to undergo as part of the specific school requirements. A previous concern that was brought to light was the disconnect with human like interaction, but while interacting with the LLM and trying to get the issues from the scenarios sorted, I did not feel not being able to connect personally was a large issue as I was focused on the issues. These type of LLMs have already been incorporated into institutions, where students seem to have positive and efficient interactions and outcomes. It seems to make their lives easier, so it would be nice to see these applications partnered along with the academic advisors, kind of like how here at Penn Career Services, they have people who can help you revise and strengthen your resume, but they also have AI tools like *Resume Worded* that allow students to automate the revisions to your resume effectively. It is also important to reflect back on the *Mattering Theory* that stated that students do significantly better and less likely to leave school, so it would just not be best practice to completely rely on AI to avoid investing into more resources to better academic advisors since it would remove one less person for the student to \"matter\" to, thus contributing to possible isolation."
   ]
  }
 ],
 "metadata": {
  "citation-manager": {
   "items": {}
  },
  "kernelspec": {
   "display_name": "Python 3-12 (COMM4190)",
   "language": "python",
   "name": "python3-12_comm4190"
  },
  "language_info": {
   "codemirror_mode": {
    "name": "ipython",
    "version": 3
   },
   "file_extension": ".py",
   "mimetype": "text/x-python",
   "name": "python",
   "nbconvert_exporter": "python",
   "pygments_lexer": "ipython3",
   "version": "3.12.8"
  }
 },
 "nbformat": 4,
 "nbformat_minor": 5
}
