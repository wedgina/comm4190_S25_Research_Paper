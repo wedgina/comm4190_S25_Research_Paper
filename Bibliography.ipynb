{
 "cells": [
  {
   "cell_type": "markdown",
   "id": "26c42649-d70a-4dbd-bd32-e79d81a8a455",
   "metadata": {},
   "source": [
    "### References\n"
   ]
  },
  {
   "cell_type": "markdown",
   "id": "4ed8612d-ba80-478f-b1d0-bfd7eddd2986",
   "metadata": {},
   "source": [
    "\n",
    "Chan, Z. C. Y., Chan, H. Y., Chow, H. C., Choy, S. N., Ng, K. Y., Wong, K. Y., & Yu, P. K. (2019). Academic advising in undergraduate education: A systematic review. *Nurse Education Today*, 75, 58–74. https://doi.org/10.1016/j.nedt.2019.01.009 \n",
    "\n",
    "Flaherty, C. (2023, February 2). *Student survey reveals gaps in core academic advising functions.* Inside Higher Ed | Higher Education News, Events and Jobs. https://www.insidehighered.com/news/2023/03/01/student-survey-reveals-gaps-core-academic-advising-functions \n",
    "\n",
    "Gudep, V. K. (2007). Issues and challenges in academic advising: A multivriate study of students’ attitudes towards academic advising in United Arab Emirates (UAE). *Contemporary Management Research*, 3(2). https://doi.org/10.7903/cmr.87 \n",
    "\n",
    "Hilliger, I., De Laet, T., Henríquez, V., Guerra, J., Ortiz-Rojas, M., Zuñiga, M. Á., Baier, J., & Pérez-Sanagustín, M. (2020). For learners, with learners: Identifying indicators for an academic advising dashboard for students. *Lecture Notes in Computer Science*, 117–130. https://doi.org/10.1007/978-3-030-57717-9_9 \n",
    "\n",
    "Lotkowski, V. A., Robbins, S. B., & Noeth, R. J. (2004). The role of academic and non-academic factors in improving college retention: Act policy report. *PsycEXTRA Dataset*. https://doi.org/10.1037/e420492008-001 \n",
    "\n",
    "Lowe, A., & Toney, M. (2000). Academic advising: Views of the givers and Takers. *Journal of College Student Retention: Research, Theory &amp; Practice*, 2(2), 93–108. https://doi.org/10.2190/d5fd-d0p8-n7q2-7dq1 \n",
    "\n",
    "Matthews, D. Y., Ford, J. R., & Kepple, C. R. (2022). Building first-generation student satisfaction for students of color: The role of academic advising. *Journal of First-Generation Student Success*, 3(2), 124–142. https://doi.org/10.1080/26906015.2022.2117671 \n",
    "\n",
    "McConnell, P. J. (2000). Eric Review: What community colleges should do to assist first-generation students. *Community College Review*, 28(3), 75–87. https://doi.org/10.1177/009155210002800305 \n",
    "\n",
    "Patton, L. D., Morelon, C., Whitehead, D. M., & Hossler, D. (2006). Campus‐based retention initiatives: Does the emperor have clothes? *New Directions for Institutional Research*, 2006(130), 9–24. https://doi.org/10.1002/ir.176 \n",
    "\n",
    "Student Success Stories. (n.d.). https://www.stellic.com/customers/student-success-stories \n",
    "\n",
    "Thottoli, M. M., Alruqaishi, B. H., & Soosaimanickam, A. (2024). Robo academic advisor: Can chatbots and Artificial Intelligence replace human interaction? *Contemporary Educational Technology*, 16(1). https://doi.org/10.30935/cedtech/13948 \n",
    "\n",
    "Young‐Jones, A. D., Burt, T. D., Dixon, S., & Hawthorne, M. J. (2013). Academic advising: Does it really impact student success? *Quality Assurance in Education*, 21(1), 7–19. https://doi.org/10.1108/09684881311293034 "
   ]
  }
 ],
 "metadata": {
  "kernelspec": {
   "display_name": "Python 3-12 (COMM4190)",
   "language": "python",
   "name": "python3-12_comm4190"
  },
  "language_info": {
   "codemirror_mode": {
    "name": "ipython",
    "version": 3
   },
   "file_extension": ".py",
   "mimetype": "text/x-python",
   "name": "python",
   "nbconvert_exporter": "python",
   "pygments_lexer": "ipython3",
   "version": "3.12.8"
  }
 },
 "nbformat": 4,
 "nbformat_minor": 5
}
